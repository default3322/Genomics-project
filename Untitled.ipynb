{
 "cells": [
  {
   "cell_type": "code",
   "execution_count": 1,
   "metadata": {},
   "outputs": [],
   "source": [
    "import pysam\n",
    "import random\n",
    "\n",
    "bases_choices = ['A','T','C','G']"
   ]
  },
  {
   "cell_type": "code",
   "execution_count": 2,
   "metadata": {},
   "outputs": [],
   "source": [
    "header = { 'HD': {'VN': '1.0'},\n",
    "            'SQ': [{'LN': 1575, 'SN': 'chr1'},\n",
    "                   {'LN': 1584, 'SN': 'chr2'}] }\n",
    "\n",
    "with pysam.AlignmentFile('ex1.bam', \"wb\", header=header) as outf:\n",
    "    a = pysam.AlignedSegment()\n",
    "    a.query_name = \"example_read\"\n",
    "    a.query_sequence= ''.join(random.choice(bases_choices) for i in range(35))\n",
    "    a.flag = 99\n",
    "    a.reference_id = 0\n",
    "    a.reference_start = 32\n",
    "    a.mapping_quality = 20\n",
    "    a.cigar = ((0,10), (2,1), (0,25))\n",
    "    a.next_reference_id = 0\n",
    "    a.next_reference_start=199\n",
    "    a.query_qualities = pysam.qualitystring_to_array(\"<<<<<<<<<<<<<<<<<<<<<:<9/,&,22;;<<<\")\n",
    "    a.template_length=167\n",
    "    a.tags = ((\"NM\", 1),\n",
    "              (\"RG\", \"L1\"))\n",
    "    outf.write(a)"
   ]
  },
  {
   "cell_type": "code",
   "execution_count": 3,
   "metadata": {},
   "outputs": [
    {
     "name": "stdout",
     "output_type": "stream",
     "text": [
      "ACTTGTCGTTATTTTGGCTCTCTTGACCTATCCAT\n"
     ]
    }
   ],
   "source": [
    "bam_file = pysam.AlignmentFile('ex1.bam' , 'rb' , check_sq=False)\n",
    "iter_ = bam_file.fetch('chr1')\n",
    "for i in iter_:\n",
    "    read_1 = str(i)\n",
    "    \n",
    "read_list = read_1.split('\\t')\n",
    "sequnce = read_list[9]\n",
    "print(sequnce)"
   ]
  },
  {
   "cell_type": "markdown",
   "metadata": {},
   "source": [
    "## Sequence Extraction\n",
    "Since most BAM/SAM/CRAM files have a universal format of attributes, the seqence we want to analyse is mostly found in the specified attribute, althought the test was dobe using a BAM file due to some technical issues with the cram file which has left us unable to determine precisely the use of CRAM file"
   ]
  },
  {
   "cell_type": "code",
   "execution_count": 4,
   "metadata": {},
   "outputs": [],
   "source": [
    "import pandas as pd\n",
    "import matplotlib.pyplot as plt\n",
    "%matplotlib inline"
   ]
  },
  {
   "cell_type": "code",
   "execution_count": 23,
   "metadata": {},
   "outputs": [],
   "source": [
    "import time"
   ]
  },
  {
   "cell_type": "code",
   "execution_count": 113,
   "metadata": {
    "collapsed": true
   },
   "outputs": [
    {
     "name": "stdout",
     "output_type": "stream",
     "text": [
      "CGGAGCGCCGCGAGAGCTCCACATGGCGGCGTATAGCCGGACCCGGGCATGATCTATGGCCATAGAAAGTCATCGATGAACTATGTTTGAGCAGAATATTACTAGAACCTCACAGTACCGTGCCGCTTAGCACACTGGCGAGGACTGAAAACGACCTGCCTCTTCATGATTCGCCATTCGCATAGGTGCAGTAAACTGACCTGGCGGTCCACACACTCTCGGAGCGGACCAACCGGTGTGGGGGTCTATGGTGTCACATAAAGCGGTATTTCTTGGTTGCAGGGGCGGGAGTTCGGAAATGTCGATTTTCACTACTCGCTATAGGAATATTTGGCAATCCCAAAGATGTTGATCGATCCTCCAGTACTGACATGGGACCTATCCCGCCACGCCCAGGAAGCTGGGACGCTTTAGTTGCCATTGCCAGTCTCACGGCGCCAGAGCGAGTCGGACCATGCATCGAGTGAGTGGCGGTAGCTGACAGCATGCTGGTTTACAGTCCCAACATTCCAAAAAAAGTGTTATTGATATCCTTGACACTTGTCAAAACAAGACGGCACCTGCACGCTGAAGTTTACTAGGCTGAAGCCTACCGCTAGCTTCCTGCACGGGTGCCTGGCTAGTTCTGGCGGGATGAAAGAGGCCACTCAAGCGGAGCAGGGATTAGTTCCCTTGCGAAATGTCTATTCTCTTGCATGGCACGTGAGGCCGAACGATCTAAAAAGCCGCGCCAGCTATACAAACGGAGCCCAATGTGCCTCGACAGCCTTGATACCGCCATGCTAGACCGCCCATCATCGAGCAAGATCACCATGTCTTTCCTAAGGGGTACCCGGTAAAATTGCGGGACTGTTTTACGAGCCGTCGTCGCCGATTCCATCAACCGGTCTACGCGTCGTCTGCGATGAGTCCGTGTGCTTTCGTCTCAGATTACAGGTACCATATTTCGATATTATAGTTGGAGCGGCTCTCTTTGTCTACTTATATAAGTTGTTGCTCCATCGCGACAGGGTCATTGGCTATCCCACGGTACTCCCTTAATGCGGCCATCTGTTGGGCTCAGAAGACTTCTTTATGCGAACCAATTCGCTGAGGACTTGATAAGCTGCGAGGGGGCTTATGGGCGCGGACATCCTAGGAGTCTTCATAGCTGCGGCCACGATTGGCTGACTAATGGACTCAGTACGTTACAGAGTTGCTTCCCAGATGAGTTTGCATTATTTCCCGTGCCCTTTTTTGCTTTTGCCGTGCCCTGAGCGTGGATTAATTTCAGGGCAATATCGTCCGTCTGAATCGGGGCGGTATTCAATGGACCAAGGCCCACGCGTATGCGCTCCCGGGAACAGTTATCGGGGACCCTAGTAAGTATAATTCGGCCCAAATGGATCTGCGGGGCTGGCCGCTCACACGGTCACTTCTCGACGCAAATGAACACGCCAAAGGAATGATGTATCTTTCACTCAGGAAGTATCTGCCCCAGACACCACGAATCGGGCTCATCTCAGGCAACCACCCCCTCCCGTAGGACTGATTATTAAGTAGGCGCAAGAGTTCTTTATATGTGGAGTCGGAATAGCCCACTAAATGGGGAGGCCTCCACTCCACGGTATGAAAGCTCGTGGGTGACAGAGAATACATTCACTGGTCGTCCTGAACAGCATAAACATCTGCGTATAAAGACGCGGTGCGGGGTACTTGGAGTGAAAGACCAAACACTTGATGCTGATGATGACTTGCAACGATCAAATCAGAGTCCCTTACTCCGAGTCAGCACGCATGACTACTATGGTCCAGACCACTTTATCAATCCGTATATTTCATAAGGGCCTTCAGGTAACACCCTGTATATAAACCGGTAGCGCGGTTACTTAATCTACAGGAAACCGTAAATAATACGCTGCAGTATGACGTGGATCCGTTGTAAGCATTAAAAGTCGGTGGATATACTACTTTCGCCTTTAAGGCCCATGCTGTATTGCAACGTAAAGATGAGACCATGGATTGTTTGATATACCGCTAAGTAATACGTACCTTCTGCACACTAGCTTTCTGTAATCTCTTCTTCAGCGAGTGATTAACACAATGAAGTGAAGTTAGCCTGGGTCACTATGCTACTGAAACACCCAACACTACAGTTTGTAACGGGCCCCCTAGTCCCATCTGCAGGAGTAAAAAAAGATGCTGACGTCTAAGCTGTTGTAAGATAGGTCCCAGCAATTCGAGTAGAGACTAACCTCAGTCCCAGTGTGTTTGGTCTACCCGGGTTTGTGTCGACCTGCAACGAGGTGTCCATATGGGATACAGTTATGCAAGACGCGCCGTCCATGATCTTTCCGGCTGGTAAAGGAGCACTTGATTTTGGGGCTAGTAGACAGATGTTACCAGCGGTGCTATTCGCTTCGGTCCATCAGGGTCGCTCAAAACAGACCGGAACCGATGTCGATGACAATCGGATGGGGCGGACTGCCGAATGATGCATTTGATAAACGGATTGACGCGGCGTGGATCAACCGTTGCATTCGAACCCTGCAGTTGGTCGCCTCAGCAAAGGAGGTCGAGTCCACACGGGGATAATCCACAATGCGTTGAGGTTGGACTGTTTCCCATGGTCCCCAAGGAAACGTGACAGATAGAACGTTGGGGGATTTACCCGAAAACCGGTTACGAACTATTCGAGAATAGTATCTCAGAGATACCGACGTCAGTGACGAGGTGCGAGCCAGCGCGGAGTAATTTATAGGACGCCAAAAGGACTGCGCTACGACGACCTCGGGACATTAGAAGGGCACGAGAGACTTGATTATAAGTTTCACACAATTGTCTCCCCTTATGGGGGCTTCCCTGAAGACCAGGTCTGCGGGTCTTTATAAGGCTACGTTGACCTACAAGGATTCAACTTCACAATGAATCTGGCTCATCTACGTTATATAAATCTTACCGACCGCGAGCGACGCGAATCTCGCCAGATCAAAAACGGCATGAGACTCCGCCGAGCCCCGACAGATGCATCTTTCCCCAGTCATGAAGTCTGTGGTGACTGGGACTCGCCGTTTGCGCACTTGGTAGTTCTACCACAAATGAGGTACGCCAAGGCGACCTTATACACACTTCCGCCGATCCAGAGATTCGGCCTACCGCAAGCTCGTACGTAGGACGCTTTCTCCACCGTAGTCTTGTACAGTCGTTCTCGAGGTGACGAGTAGGGTGAGCCCATCCGTAGGGTGAAACTCAGTCTAGGCTACCGAGATCCACCGTAAGCAGCCCTGTCTGCTTGACACTGGCGGCACATTCACCTAAGAGGAGGTTTTCGTTTAAGTTGGCCAGGAACAAATTTTAGGCGCTTCTAAGCGCAGTGGACTAACAACGGGACTCTTGCTAGAAAGTGCGTATTATGTGGGTCGCCGAGGTCGGGAATTACCCCCGGGCCAGCAACCGGGGCCTGTACAATACTGAGGAAGTATCTCAGCGATATTAAGCTGAAGTATAATCGCGCGAAGGGCAAGGAGCTCATGGAGTAGGATTCGGCAGAATTTATAAGCAGTTTCGTCATGACCGGTCCTGGTTTGTGATCTTTAATTTTAGGATAGAAACTTCGAGTAGTTTGCCAGTAGACGATAGGCATCGCGTTTCCCAATAATGAATGACACGCGGTATTGGCCCACTGAAATTAGTTGTCTGGTTCACTTGCAGGTAAGATCCACAGGTCGAAAGGACAATGGATGTGACGTTACCTCGTCTGCGTAGTCTACAATATTCTAACTCTTCACGACAAATGAACTAGAGTGATATGAAATCTCCAAGTAAAGCAACGGCCCGTACAGAGAACGGCAACGGACACAAATGAATAGGATTGTAACGGCTTATTACAAGGAAGCGGAGGCATTGCGGGGTTAAACCAAATGCAATAGCGAATAAGTGATACAGCAGGTAGTGTGCATATTAATCTGATATGAAGCCAAGATTATGTCCACTCGAATTAGATCGTCTTCATTGGGTAGGTGGGTTGGAACTTTTATGTTCATAGTTTACGGGATGCAGTTCTGGAGACTGTCTGGGAGAGTTACCGCGATTCCTGGTCAAGACAAGAAACCGGACCGCGTTCGGACTGCGTGACCCGCCCCTCTTATCTGCGCCTAAGCTCGCCGTCATCACAGAGCCACAAACTTAAAGTGAACAAGAATATTCCCGGCCAGCTCATATCGTCCTACGAAATTACTGTCTTTCAACTCGATTGAGACATACCGAAAATAAGGCCAGCCTCACCTAGAGGGCTATGGGTGAATGACCGATGAGCCTTCCTATACAGGGCCCTGTCTCTTGGAGTCGCTGTACTGACCCGTGAGTCTAGGCCTTACCGCGGTAGAGTTCAACCTAGAGGTCGTTCCACATTAGGGACTCTGTTTTTAATTAATGAATAATACCGGTGGCCACCTAATTATAGAGTGCTTCTCTACCCACAACCATGGGACTCTTATTATTAACTATAGCTAATAACGTCCTAGAGTACGACTTGGTAATATCGCATCTAGTAGAAGAACACAGTAGACATGCGAATCTATGCCCAAATCGCAGAAAACTGAGACGAGACGGAAAGCCGTCGCCTCTGGTACCCCAGCCGTAGGTCACTTCGATATCTAGAGTATGTCTACCCATCACAGATGGCACTATTACTGCAGCCGAAGTGCCGGCCGCCTAGCTTCTCGGTAACTTGAACCCGCGATAATGAGCATAGATTTTATGAGTATCGCTCAGCCCAATTTTGAGGTTGAGTGAACTACCATCAATCCGGCGTGGGCCCATCAGTAATTATTTTGACCGCAGGGACAAATCTTCAGGTTCGACGTCCCTCAGGACCGCACTGTAACCGACCAATGCTTCATGGATGTTAGTAGCATTTCCGCCGCCAAGAAGTCCCGCTCTACGACGAGGATTACCGCGGTGCTTTACCTACTTAAATTCTTGAGACCGTCGGATACCACCCTTGAGGCAGGTTCCTACGGATTAGTGATCGCCAGTCCCGGATAGAGATCGTCGGCCCTGGAAAGGTCGCACAGTCGGTGCCCCGCACACCGCTGCAAAGTCTGCCCTGAATACGCGGCGGTAGGACGCTGAAGTATAACTCGCTACGCCGGACAGGCTTTACACATACTATGTTAGCGAATTGCGCACTTGCAAGAATGGCGGCACGATCACCGTGTTGCTAACCCGGACTGACCCCTCTCATAATGGCCGAACGTGATAAGGACTCGGGCTTTTGGCCGATGCGTCTAATGTCCGCCACAGGGGTCGGGGGGCGATTAACAACACTCTTTCTAATGACTTCTCTCGGGGAGTTGAAATTGGAGAGATCTGAGGTACCGGCGGCTTAATCAAGCGAGAGGGGGTGAGTACAGTACCCTCGTAAAGGACAATCGGGGGACGTAGAGGAAGCACTTGTGGGGATAGGGTCTGTAGGATGCAATTTGGGGCTGTATATGTCGAATTGAGCGGTATCGCTCGGTGCAAAACTTTGTCAAGTTCTACGGGACGATCCCACCGGCAGTGGGGGCTGCCCGCTACGACACTGTCCCGTAGCACCATTCCCAGTGATCCTGAAGTGCCCGAACCTGCCGTTAGTGTTACCGGTAGACGTAGGTCAAATGATCTCATATCTTGACTAGTTATAGTCTCACTCAGCGGTGTCACAAGTAAGCGGTACAAGAGCTAGCTAACGAATTCTCTCATAGGCCATTATTCTAGACGTCTCACACTCCCACACGAGAATGATTTCGATGGGAGTGAGTTAGCGATGGTAAGACTCGACAAAAAGACCGAGCGGCCAGACCGCGTCGGTGGATGTGAACGCAGGAGACGTTTGTCATTGGCTTCCGGTCTAGAAGTCCTAATATCCGCTCGAAGAAATCCCTCGCCTAGATGGCGCATTGAAATTAGGGGAAAGTCGAGCCAATTAGTGTCCAACTTAGGGTCTCCGTTCTTATACTGGTGTGATTGGAGCAATTAGGCGAACCATTCTAACGCCTCGTCGCTTGCAAGAGGAGGGGTACAGCTGCACCCACAGACTCGTAACGGCTTTAAACTAAGCCGTAGCAACACTGACGAATTCGACGGGTGTTGGAGCAGGGTAGCCTTATTCCTGTCGAAATTATCGACGCTCACAATTAACTCATGGCCGGAGTTTCTGCGGTCAGGAAGAGAATTATTCCATCAAACTTACGCGACGAGAAGAGTTCATTACGTCTCAAGTTCTTGAATACGACAAAAGGTGGGCTAAGGGCATCATTATGTATGACTCTAGATAAATATCTCTGTTGAGTCGTCAAGCGTGAGTGCTATCAATACCGTACCTGTAAAACTCAGCCACCTTACGTGAATGGACGCTACGGTTTATCCCTGGGTTTTAAAAGGTTGCGTAGGTTAAACAACGGCGAGTGGCGCTCAATTAGTACTCGTGCTCTCTAGCCGTTGGCTTAGCGAGGATCCCTAGCTTGAAGCATCGTTCAAACCGTTGTGGAACCTTACGTCGGAAGTTTGAGCCTCTGGCAGGAATACAGTTTGAAGCTTTACATAGGCACCGCGAACGTGAACATTAGTCCCCGCTCTACATCAACAACTGTCGTACTTCCTTCTTGGTTATCCACCATATCGTTTTTGGTCTCAATACGTCCCATCTGGATTTGTCCGTACCTCCACACCCGACGGGATTAACCCCATGCGTTAGGGCGAACTCTTATCCCTATGGCAGATCCTTATAGACGTACGTGGCTTTCCATGGCTTGACTAAATCAACGAAGTCAGCAGTCAGGATCACGATAGTTGGAAGATCACTTGATAACGCGACGCGCGTATTCATGTGCCTCTGTACTATATAGGGACAACCTCTCCACTCCTTGGGATTTTATGCGCCAAGTACGAGGTGTAGGTTACATTCCTTTAAAGAATCGACGCCTTCTCTTAAAAATGTATCGGCTATTTGTTTGCTTTGCTACAAGGTCGTCGAAACGTGTCTATTTCATATGGAAACATTTTTGCGAAGCTCAGATAGGGGACTGGACCCATGGGGTAAGCGCGCAATTTCTGTCACCGCAGTACACGCGAGCTGCACTGAAATGAGATTGGGACGGCAGCTTAGCTAACTCAAAATTGTATGGTCTTGACGGCCCGACCGGGAGCTCGATGGCGTCCATTTCCAGGAGGGGCCGATGATTTACCCCTACTAGTAAATAATACATTATGAGTAATGTCCTATGGGCTGATGGGGAATTCGTGCGCTAATGGGCCTAGTGATATATTGGGGGAACCCAGATGTTGCCCCCCGCACATTAGAGTGAAGGGATCCGGCGGGGCATTTATGGAGATGTATGCCGAGCCTGACGCACATAGATTCGCCCTAGACTGAGGGCATTTACAGCTATCACGCATCCTACAGCTGCGTTATAGAAGAGGCCCCTAGGACTTATTGGGTATTAGCTCGTTGCTAATCCGGTAACTTGTAGAGCGACAGGCTTAGAGATAAACCTGGCTATTCCCGTGCGTAGGAGCTAGCGACACTCAGGCCACCTTTAAAGTAGGAACATCCGTTTGCCACAACGTATGCTCCTTCGTCATAGAAGCGCCCCATGGCCCATTGAGCATCGTCCTAGACTGAAAGTAATGGTTAATCAGGATCAGCCGCTGTACAAATCGCCCATTTTTTCTCCGTAGTCTACAGAGACGCCCATATATTCTGCAGCAATGAAATTGCCCCGATTCGCTGGGCCGTGACCGCTATACATCGGAACGCGCGTCGTTGCTCTTTGTCGCCGACCGTCCTCTTTACTAGATTACACGGTCTATCACCCGCACGTACCCGGGTTTATATACTCTCATAACATGTCCATCGAATGGGGCCAGAACGCCTATCGGTCGACCCTCATGTTATATGAGTCTCCCGCCTCAGACGTCGGATATGAGCATGCTACCTCGTATCGACCTCGCGTTAAAGTGATGGGCCAATGTAGCGAGAGGCCGCGGAAGACAAGATATACGAACTTAATACAATACAGCAAAATAGTTTGTTGAAATGACGGCGCGTCCGACCAAGATAACTACATCGTGGCATCCCGCGCTCTGGCAGTCTGCACTGGGTTTCTGACTGAACTGAGTACGCAAGTGAGAGGACTTTCTAAATCTATAGACGCTTACCAAATCCGGTAGGATCTAGCTTGAATAGTTAGCCCGGAGAACCAGTTGGATCGGTATAGTACACTGAGATATAGGCTGTGTGCAAGAACCTGACGATTGATATACTGAATCATACTCTCCCGCTCAGGGATATGCAGGGGGGTATCCGGATACATTAGTTAAGTTCAGACGAGTATCCATGACGAGACCGACTCGTTACTGAGTTTACATCCGAGGTGTACTTACATTCCCCGGATTCGGGACCCTCTGTGAAGTCGGGTCAGCTCGGACATACCGCAAGCGGAGACGCACAACGGATTCTATCATTGCTCATAGAGGGTATCCATAAGGTGGCTCACAGGATTCCTCGTGCGTGGGGAACGCACCGTGGACCATCCAGAGTTCGCTCTGGCACCGTCTACGGGTTAAGAACCCGCATCCGTCGCGAAAACAGATGATGGAAGAATAGCCGCCCAACTCGCATTCGTCATGATACTATACGATCGTGACACAAGCTGGTGTCTCGAGGGCCGGGTAAGTAGCCGCGGTTCTCGTCGGTCGGCAGGTATTGGAGCAGCTTACGGCTATCGTTTGACTTTGATAAAGGAGAATTTCCTGTAAGAGGGAAGCACAGTGATCGACCATTGGTTGACACTAGCGGAAAGGCCGGTGATTAATAGAGTCCTGCTGGCGCCGAGTCTGGACCAGTAGAAACGGGACTCATCAGCAAAACTCAAGTCATAGATGGATACCCCGAGGCACACGACTAGATACCTCACTTGCCGCACAAGTAGCATGGGTCCCATGTTGGTGACATTTCACACACTTTCACGGTACGATCGACACCTCGTATATAATCTCGTTCACCTCTAGCGTGCTTATACTTCGATAAAAATTATGCACGGTCGATGCAACGTCGTAATCGGGAGTTACTGTTAATTGGCCGCTCGAAGAGGAATCTTGAAGCCACGGCGATGTAAAATATACGGGACAAAAGCCTGGGCATAGATAGTGCCGGCATTACCCTATCTTGTGACGGAAGTTTAACCTTTCTTTAGGGCAAGCTTAGGTTTCCCTACTGTGCGTCCATCAATGCGCATTGAAGCCCGGTCGCTCGGATCCGGCAGTCTCATACATGGGATACCCATTACAGTATTCTACACGGGGTTTTTGTAGGTACTCAGTGCTCAGTATGTTGTGTTACGGGCCTCTCGGGGAAGTGCAGAATGTCAACAGATCAGGAACTTCCCCCTCAAGCCACACGCAAAATAATGGTCGTCACGAGGCGTACTAGTGCGGGTCTATGCGTATTCTGATGTCTAAGCGGTCGCTCACTTGTCAGGGTGAAAAGTGTTTACTTACTTTCCGGTAGTCATAACCGGAGGCTGTGAGTCTCTCGCTGGTGAAATATAGTTCTATCTCATACCGCCGTTGCCGTGGCAGTCCATATGCGAGTAGGGTGGGGTTTATAGATCCTCAATACGCAGAAGGCGTATCACTCTGTCGAACGCCATGGTCACTACCCCTAAGACGCATACCTCACCACACTAAAGACCAAAACCTCGGAGCATCACGTGCGAGGACTATGGGATGGACGGAGTCACGCCGATGACCGGATTGAGCGAGACGTCAGGACCTTTACTAGCAGTAAGCTGAGCTGTAAGTACAGAGCGACTACCAATCAGGAATGTCGGGACCGATCATTCTTTAATACAAAGATCTTTCAGTATAGGAAGGTCTAAGCCGTACTTGGGCTTAGTGAACAGGGCTTAGAGAAGTGACGTGCTCATCGCCTTAAGGCGATCCTTTCGGAACGGATAGTACTCACTTTCGCTGGGAA\n"
     ]
    }
   ],
   "source": [
    "idx_list = range(1000)\n",
    "sequences = list()\n",
    "for idx in idx_list:\n",
    "    sequences.append(''.join(random.choice(['A','T','C','G']) for i in range(10000)))\n",
    "print(sequences[0])"
   ]
  },
  {
   "cell_type": "code",
   "execution_count": 123,
   "metadata": {},
   "outputs": [
    {
     "data": {
      "text/html": [
       "<div>\n",
       "<style scoped>\n",
       "    .dataframe tbody tr th:only-of-type {\n",
       "        vertical-align: middle;\n",
       "    }\n",
       "\n",
       "    .dataframe tbody tr th {\n",
       "        vertical-align: top;\n",
       "    }\n",
       "\n",
       "    .dataframe thead th {\n",
       "        text-align: right;\n",
       "    }\n",
       "</style>\n",
       "<table border=\"1\" class=\"dataframe\">\n",
       "  <thead>\n",
       "    <tr style=\"text-align: right;\">\n",
       "      <th></th>\n",
       "      <th>Sequence</th>\n",
       "    </tr>\n",
       "  </thead>\n",
       "  <tbody>\n",
       "    <tr>\n",
       "      <th>0</th>\n",
       "      <td>CGGAGCGCCGCGAGAGCTCCACATGGCGGCGTATAGCCGGACCCGG...</td>\n",
       "    </tr>\n",
       "    <tr>\n",
       "      <th>1</th>\n",
       "      <td>TAAATCCCAGCGGTTGGCCCAGATCGCTGATTGCCGATGCCGATAA...</td>\n",
       "    </tr>\n",
       "    <tr>\n",
       "      <th>2</th>\n",
       "      <td>TAAAAAGGCGAACCAGGCTCTTGGGACGGAAGTACCCTGAAAAGAG...</td>\n",
       "    </tr>\n",
       "    <tr>\n",
       "      <th>3</th>\n",
       "      <td>AGCTTAAGGGATGAACCAGGGGATGAACTGGGTTCCGATTGCATCC...</td>\n",
       "    </tr>\n",
       "    <tr>\n",
       "      <th>4</th>\n",
       "      <td>CAGGGAAAATTTCGTTATATACCCAGGCTGCAATGAAGCTTGCCCG...</td>\n",
       "    </tr>\n",
       "  </tbody>\n",
       "</table>\n",
       "</div>"
      ],
      "text/plain": [
       "                                            Sequence\n",
       "0  CGGAGCGCCGCGAGAGCTCCACATGGCGGCGTATAGCCGGACCCGG...\n",
       "1  TAAATCCCAGCGGTTGGCCCAGATCGCTGATTGCCGATGCCGATAA...\n",
       "2  TAAAAAGGCGAACCAGGCTCTTGGGACGGAAGTACCCTGAAAAGAG...\n",
       "3  AGCTTAAGGGATGAACCAGGGGATGAACTGGGTTCCGATTGCATCC...\n",
       "4  CAGGGAAAATTTCGTTATATACCCAGGCTGCAATGAAGCTTGCCCG..."
      ]
     },
     "execution_count": 123,
     "metadata": {},
     "output_type": "execute_result"
    }
   ],
   "source": [
    "data = pd.DataFrame(data = sequences, index = idx_list, columns=[\"Sequence\"])\n",
    "data.head()"
   ]
  },
  {
   "cell_type": "markdown",
   "metadata": {},
   "source": [
    "To test the performance of the tools we're using, we have randomly generated 100 indexed sequences 10000 base long, then we stored them in a pandas DataFrame in order to use the methods available in `Pandas`. we'll start by extracting one part of the sequence."
   ]
  },
  {
   "cell_type": "code",
   "execution_count": 115,
   "metadata": {},
   "outputs": [],
   "source": [
    "ext_sequences = data.Sequence.str[100:301]\n",
    "idxs = pd.Series(idx_list)\n",
    "df = pd.DataFrame(data=ext_sequences, index=idxs)"
   ]
  },
  {
   "cell_type": "code",
   "execution_count": 117,
   "metadata": {},
   "outputs": [
    {
     "data": {
      "text/plain": [
       "12.659072875976562"
      ]
     },
     "execution_count": 117,
     "metadata": {},
     "output_type": "execute_result"
    }
   ],
   "source": [
    "new_df = df[\"Sequence\"].apply(lambda x: pd.Series(list(x)))\n",
    "new_df.columns = ['base-%d'%i for i in range(100,301)]\n",
    "new_df.memory_usage(deep=True).sum() / 1024**2"
   ]
  },
  {
   "cell_type": "markdown",
   "metadata": {},
   "source": [
    "After extracting the arbitrary bases we need to analyse, we measure the total meamory usage of 1000 rows with 200 bases to be `12.66 MB` which would be reduced if the Data type was to be converted to Categorical rather than being in string type.\n",
    "\n",
    "Since there are only 4 unique data value, turning the data types to `Category` is bound to reduce the memory foot print, making it easier for less powerful machines to read the data."
   ]
  },
  {
   "cell_type": "code",
   "execution_count": 122,
   "metadata": {},
   "outputs": [
    {
     "name": "stdout",
     "output_type": "stream",
     "text": [
      "The new memory usage is :  0.2805938720703125\n"
     ]
    }
   ],
   "source": [
    "cat_cols = new_df.columns\n",
    "new_df = new_df[cat_cols].astype('category')\n",
    "# measure the memory usage of the new DataFrame and compare\n",
    "\n",
    "new_mem = new_df.memory_usage(deep=True).sum() / 1024**2\n",
    "print(\"The new memory usage is : \", new_mem)"
   ]
  },
  {
   "cell_type": "markdown",
   "metadata": {},
   "source": [
    "Thanks to categorical data types we have been able to reduce the memory usage from 12.66 Mb to 0.28 Mb, the same can be applied for larger datasets."
   ]
  },
  {
   "cell_type": "code",
   "execution_count": 156,
   "metadata": {},
   "outputs": [],
   "source": [
    "def measure_time(func):\n",
    "    start = time.time()\n",
    "    func()\n",
    "    return time.time() - start"
   ]
  },
  {
   "cell_type": "code",
   "execution_count": 157,
   "metadata": {},
   "outputs": [],
   "source": [
    "import numpy as np"
   ]
  },
  {
   "cell_type": "code",
   "execution_count": 181,
   "metadata": {},
   "outputs": [
    {
     "name": "stdout",
     "output_type": "stream",
     "text": [
      "29.068942070007324\n"
     ]
    }
   ],
   "source": [
    "rows_list = range(0,10000,1000)\n",
    "start = time.time()\n",
    "idx_list = range(15000)\n",
    "sequences = list()\n",
    "for idx in idx_list:\n",
    "    sequences.append(''.join(random.choice(['A','T','C','G']) for i in range(1000)))\n",
    "print(time.time() - start)"
   ]
  },
  {
   "cell_type": "code",
   "execution_count": 196,
   "metadata": {
    "collapsed": true
   },
   "outputs": [
    {
     "data": {
      "text/html": [
       "<div>\n",
       "<style scoped>\n",
       "    .dataframe tbody tr th:only-of-type {\n",
       "        vertical-align: middle;\n",
       "    }\n",
       "\n",
       "    .dataframe tbody tr th {\n",
       "        vertical-align: top;\n",
       "    }\n",
       "\n",
       "    .dataframe thead th {\n",
       "        text-align: right;\n",
       "    }\n",
       "</style>\n",
       "<table border=\"1\" class=\"dataframe\">\n",
       "  <thead>\n",
       "    <tr style=\"text-align: right;\">\n",
       "      <th></th>\n",
       "      <th>0</th>\n",
       "      <th>1</th>\n",
       "      <th>2</th>\n",
       "      <th>3</th>\n",
       "      <th>4</th>\n",
       "      <th>5</th>\n",
       "      <th>6</th>\n",
       "      <th>7</th>\n",
       "      <th>8</th>\n",
       "      <th>9</th>\n",
       "      <th>...</th>\n",
       "      <th>91</th>\n",
       "      <th>92</th>\n",
       "      <th>93</th>\n",
       "      <th>94</th>\n",
       "      <th>95</th>\n",
       "      <th>96</th>\n",
       "      <th>97</th>\n",
       "      <th>98</th>\n",
       "      <th>99</th>\n",
       "      <th>100</th>\n",
       "    </tr>\n",
       "  </thead>\n",
       "  <tbody>\n",
       "    <tr>\n",
       "      <th>0</th>\n",
       "      <td>C</td>\n",
       "      <td>G</td>\n",
       "      <td>T</td>\n",
       "      <td>A</td>\n",
       "      <td>A</td>\n",
       "      <td>G</td>\n",
       "      <td>G</td>\n",
       "      <td>G</td>\n",
       "      <td>G</td>\n",
       "      <td>G</td>\n",
       "      <td>...</td>\n",
       "      <td>A</td>\n",
       "      <td>T</td>\n",
       "      <td>T</td>\n",
       "      <td>G</td>\n",
       "      <td>G</td>\n",
       "      <td>A</td>\n",
       "      <td>G</td>\n",
       "      <td>G</td>\n",
       "      <td>C</td>\n",
       "      <td>A</td>\n",
       "    </tr>\n",
       "    <tr>\n",
       "      <th>1</th>\n",
       "      <td>C</td>\n",
       "      <td>A</td>\n",
       "      <td>T</td>\n",
       "      <td>C</td>\n",
       "      <td>A</td>\n",
       "      <td>G</td>\n",
       "      <td>A</td>\n",
       "      <td>G</td>\n",
       "      <td>T</td>\n",
       "      <td>C</td>\n",
       "      <td>...</td>\n",
       "      <td>T</td>\n",
       "      <td>T</td>\n",
       "      <td>T</td>\n",
       "      <td>C</td>\n",
       "      <td>A</td>\n",
       "      <td>G</td>\n",
       "      <td>G</td>\n",
       "      <td>T</td>\n",
       "      <td>C</td>\n",
       "      <td>A</td>\n",
       "    </tr>\n",
       "    <tr>\n",
       "      <th>2</th>\n",
       "      <td>A</td>\n",
       "      <td>T</td>\n",
       "      <td>C</td>\n",
       "      <td>C</td>\n",
       "      <td>C</td>\n",
       "      <td>T</td>\n",
       "      <td>T</td>\n",
       "      <td>C</td>\n",
       "      <td>C</td>\n",
       "      <td>G</td>\n",
       "      <td>...</td>\n",
       "      <td>A</td>\n",
       "      <td>C</td>\n",
       "      <td>T</td>\n",
       "      <td>C</td>\n",
       "      <td>G</td>\n",
       "      <td>C</td>\n",
       "      <td>C</td>\n",
       "      <td>T</td>\n",
       "      <td>G</td>\n",
       "      <td>A</td>\n",
       "    </tr>\n",
       "    <tr>\n",
       "      <th>3</th>\n",
       "      <td>T</td>\n",
       "      <td>G</td>\n",
       "      <td>G</td>\n",
       "      <td>C</td>\n",
       "      <td>A</td>\n",
       "      <td>G</td>\n",
       "      <td>G</td>\n",
       "      <td>A</td>\n",
       "      <td>A</td>\n",
       "      <td>T</td>\n",
       "      <td>...</td>\n",
       "      <td>G</td>\n",
       "      <td>A</td>\n",
       "      <td>T</td>\n",
       "      <td>A</td>\n",
       "      <td>T</td>\n",
       "      <td>C</td>\n",
       "      <td>T</td>\n",
       "      <td>G</td>\n",
       "      <td>G</td>\n",
       "      <td>G</td>\n",
       "    </tr>\n",
       "    <tr>\n",
       "      <th>4</th>\n",
       "      <td>C</td>\n",
       "      <td>C</td>\n",
       "      <td>G</td>\n",
       "      <td>A</td>\n",
       "      <td>C</td>\n",
       "      <td>A</td>\n",
       "      <td>T</td>\n",
       "      <td>G</td>\n",
       "      <td>G</td>\n",
       "      <td>G</td>\n",
       "      <td>...</td>\n",
       "      <td>T</td>\n",
       "      <td>G</td>\n",
       "      <td>T</td>\n",
       "      <td>A</td>\n",
       "      <td>A</td>\n",
       "      <td>G</td>\n",
       "      <td>G</td>\n",
       "      <td>C</td>\n",
       "      <td>G</td>\n",
       "      <td>C</td>\n",
       "    </tr>\n",
       "    <tr>\n",
       "      <th>5</th>\n",
       "      <td>G</td>\n",
       "      <td>C</td>\n",
       "      <td>T</td>\n",
       "      <td>A</td>\n",
       "      <td>T</td>\n",
       "      <td>G</td>\n",
       "      <td>C</td>\n",
       "      <td>G</td>\n",
       "      <td>A</td>\n",
       "      <td>T</td>\n",
       "      <td>...</td>\n",
       "      <td>C</td>\n",
       "      <td>G</td>\n",
       "      <td>C</td>\n",
       "      <td>A</td>\n",
       "      <td>T</td>\n",
       "      <td>G</td>\n",
       "      <td>G</td>\n",
       "      <td>C</td>\n",
       "      <td>A</td>\n",
       "      <td>C</td>\n",
       "    </tr>\n",
       "    <tr>\n",
       "      <th>6</th>\n",
       "      <td>C</td>\n",
       "      <td>C</td>\n",
       "      <td>T</td>\n",
       "      <td>A</td>\n",
       "      <td>T</td>\n",
       "      <td>G</td>\n",
       "      <td>G</td>\n",
       "      <td>C</td>\n",
       "      <td>C</td>\n",
       "      <td>G</td>\n",
       "      <td>...</td>\n",
       "      <td>C</td>\n",
       "      <td>C</td>\n",
       "      <td>C</td>\n",
       "      <td>G</td>\n",
       "      <td>A</td>\n",
       "      <td>C</td>\n",
       "      <td>T</td>\n",
       "      <td>G</td>\n",
       "      <td>T</td>\n",
       "      <td>G</td>\n",
       "    </tr>\n",
       "    <tr>\n",
       "      <th>7</th>\n",
       "      <td>C</td>\n",
       "      <td>T</td>\n",
       "      <td>C</td>\n",
       "      <td>A</td>\n",
       "      <td>C</td>\n",
       "      <td>G</td>\n",
       "      <td>T</td>\n",
       "      <td>C</td>\n",
       "      <td>C</td>\n",
       "      <td>G</td>\n",
       "      <td>...</td>\n",
       "      <td>A</td>\n",
       "      <td>G</td>\n",
       "      <td>G</td>\n",
       "      <td>G</td>\n",
       "      <td>C</td>\n",
       "      <td>G</td>\n",
       "      <td>T</td>\n",
       "      <td>A</td>\n",
       "      <td>A</td>\n",
       "      <td>G</td>\n",
       "    </tr>\n",
       "    <tr>\n",
       "      <th>8</th>\n",
       "      <td>A</td>\n",
       "      <td>C</td>\n",
       "      <td>A</td>\n",
       "      <td>G</td>\n",
       "      <td>G</td>\n",
       "      <td>C</td>\n",
       "      <td>C</td>\n",
       "      <td>T</td>\n",
       "      <td>C</td>\n",
       "      <td>A</td>\n",
       "      <td>...</td>\n",
       "      <td>G</td>\n",
       "      <td>C</td>\n",
       "      <td>T</td>\n",
       "      <td>G</td>\n",
       "      <td>G</td>\n",
       "      <td>A</td>\n",
       "      <td>C</td>\n",
       "      <td>C</td>\n",
       "      <td>T</td>\n",
       "      <td>G</td>\n",
       "    </tr>\n",
       "    <tr>\n",
       "      <th>9</th>\n",
       "      <td>G</td>\n",
       "      <td>G</td>\n",
       "      <td>C</td>\n",
       "      <td>G</td>\n",
       "      <td>C</td>\n",
       "      <td>C</td>\n",
       "      <td>A</td>\n",
       "      <td>T</td>\n",
       "      <td>G</td>\n",
       "      <td>A</td>\n",
       "      <td>...</td>\n",
       "      <td>A</td>\n",
       "      <td>T</td>\n",
       "      <td>A</td>\n",
       "      <td>C</td>\n",
       "      <td>G</td>\n",
       "      <td>T</td>\n",
       "      <td>C</td>\n",
       "      <td>T</td>\n",
       "      <td>C</td>\n",
       "      <td>C</td>\n",
       "    </tr>\n",
       "    <tr>\n",
       "      <th>10</th>\n",
       "      <td>A</td>\n",
       "      <td>G</td>\n",
       "      <td>C</td>\n",
       "      <td>C</td>\n",
       "      <td>T</td>\n",
       "      <td>C</td>\n",
       "      <td>A</td>\n",
       "      <td>C</td>\n",
       "      <td>A</td>\n",
       "      <td>T</td>\n",
       "      <td>...</td>\n",
       "      <td>A</td>\n",
       "      <td>A</td>\n",
       "      <td>A</td>\n",
       "      <td>T</td>\n",
       "      <td>C</td>\n",
       "      <td>C</td>\n",
       "      <td>T</td>\n",
       "      <td>G</td>\n",
       "      <td>C</td>\n",
       "      <td>G</td>\n",
       "    </tr>\n",
       "  </tbody>\n",
       "</table>\n",
       "<p>11 rows × 101 columns</p>\n",
       "</div>"
      ],
      "text/plain": [
       "   0   1   2   3   4   5   6   7   8   9   ... 91  92  93  94  95  96  97   \\\n",
       "0    C   G   T   A   A   G   G   G   G   G ...   A   T   T   G   G   A   G   \n",
       "1    C   A   T   C   A   G   A   G   T   C ...   T   T   T   C   A   G   G   \n",
       "2    A   T   C   C   C   T   T   C   C   G ...   A   C   T   C   G   C   C   \n",
       "3    T   G   G   C   A   G   G   A   A   T ...   G   A   T   A   T   C   T   \n",
       "4    C   C   G   A   C   A   T   G   G   G ...   T   G   T   A   A   G   G   \n",
       "5    G   C   T   A   T   G   C   G   A   T ...   C   G   C   A   T   G   G   \n",
       "6    C   C   T   A   T   G   G   C   C   G ...   C   C   C   G   A   C   T   \n",
       "7    C   T   C   A   C   G   T   C   C   G ...   A   G   G   G   C   G   T   \n",
       "8    A   C   A   G   G   C   C   T   C   A ...   G   C   T   G   G   A   C   \n",
       "9    G   G   C   G   C   C   A   T   G   A ...   A   T   A   C   G   T   C   \n",
       "10   A   G   C   C   T   C   A   C   A   T ...   A   A   A   T   C   C   T   \n",
       "\n",
       "   98  99  100  \n",
       "0    G   C   A  \n",
       "1    T   C   A  \n",
       "2    T   G   A  \n",
       "3    G   G   G  \n",
       "4    C   G   C  \n",
       "5    C   A   C  \n",
       "6    G   T   G  \n",
       "7    A   A   G  \n",
       "8    C   T   G  \n",
       "9    T   C   C  \n",
       "10   G   C   G  \n",
       "\n",
       "[11 rows x 101 columns]"
      ]
     },
     "execution_count": 196,
     "metadata": {},
     "output_type": "execute_result"
    }
   ],
   "source": [
    "def df_creator(rows , initial , size):\n",
    "    # turning the sequences to DataFrames\n",
    "    data = pd.DataFrame(data=sequences[:rows+1] , index=idx_list[:rows+1] , columns=['Sequence'])\n",
    "    # extracting arbitrary bases\n",
    "    data[\"Sequence\"] = data[\"Sequence\"].str[initial:initial+size+1]\n",
    "    # splitting over every base\n",
    "    df = data[\"Sequence\"].apply(lambda x: pd.Series(list(x))).astype('category')\n",
    "    data = pd.concat([data, df], axis=1)\n",
    "    data.drop([\"Sequence\"],axis=1,inplace=True)\n",
    "    return data"
   ]
  },
  {
   "cell_type": "code",
   "execution_count": 197,
   "metadata": {},
   "outputs": [],
   "source": [
    "thousand_mem = df_creator(1000,100,300).memory_usage(deep=True).sum()/1024**2"
   ]
  },
  {
   "cell_type": "code",
   "execution_count": 198,
   "metadata": {},
   "outputs": [],
   "source": [
    "fivthou_mem = df_creator(5000,100,300).memory_usage(deep=True).sum()/1024**2"
   ]
  },
  {
   "cell_type": "code",
   "execution_count": 199,
   "metadata": {},
   "outputs": [],
   "source": [
    "tenthou_mem = df_creator(10000,100,300).memory_usage(deep=True).sum()/1024**2"
   ]
  },
  {
   "cell_type": "code",
   "execution_count": 200,
   "metadata": {},
   "outputs": [],
   "source": [
    "fifthou_mem = df_creator(15000,100,300).memory_usage(deep=True).sum()/1024**2"
   ]
  },
  {
   "cell_type": "code",
   "execution_count": 236,
   "metadata": {},
   "outputs": [
    {
     "data": {
      "image/png": "[encoded data removed]",
      "text/plain": [
       "<Figure size 432x288 with 1 Axes>"
      ]
     },
     "metadata": {},
     "output_type": "display_data"
    },
    {
     "data": {
      "text/plain": [
       "<Figure size 432x288 with 0 Axes>"
      ]
     },
     "metadata": {},
     "output_type": "display_data"
    }
   ],
   "source": [
    "positions = np.arange(4)\n",
    "plt.bar(positions, height=[thousand_mem,fivthou_mem, tenthou_mem , fifthou_mem], color ='#172e99')\n",
    "plt.xticks(positions,[1000, 5000 , 10000 , 15000])\n",
    "plt.xlabel(\"number of Rows\")\n",
    "plt.ylabel(\"Memory usage\")\n",
    "plt.title(\"Memory usage vs the number of rows\")\n",
    "plt.show()\n",
    "plt.savefig('memory_usage.jpeg')"
   ]
  },
  {
   "cell_type": "code",
   "execution_count": 220,
   "metadata": {},
   "outputs": [],
   "source": [
    "def df_creator(bases):\n",
    "    # turning the sequences to DataFrames\n",
    "    data = pd.DataFrame(data=sequences , index=idx_list , columns=['Sequence'])\n",
    "    # extracting arbitrary bases\n",
    "    data[\"Sequence\"] = data[\"Sequence\"].str[0:bases+1]\n",
    "    # splitting over every base\n",
    "    df = data[\"Sequence\"].apply(lambda x: pd.Series(list(x))).astype('category')\n",
    "    data = pd.concat([data, df], axis=1)\n",
    "    data.drop([\"Sequence\"],axis=1,inplace=True)\n",
    "    return data"
   ]
  },
  {
   "cell_type": "code",
   "execution_count": 229,
   "metadata": {},
   "outputs": [
    {
     "name": "stdout",
     "output_type": "stream",
     "text": [
      "2.9566802978515625\n"
     ]
    }
   ],
   "source": [
    "base_200 = df_creator(200).memory_usage(deep=True).sum()/1024**2\n",
    "print(base_200)"
   ]
  },
  {
   "cell_type": "code",
   "execution_count": 243,
   "metadata": {},
   "outputs": [],
   "source": [
    "base_400 = df_creator(400).memory_usage(deep=True).sum()/1024**2"
   ]
  },
  {
   "cell_type": "code",
   "execution_count": 241,
   "metadata": {},
   "outputs": [],
   "source": [
    "base_600 = df_creator(600).memory_usage(deep=True).sum()/1024**2"
   ]
  },
  {
   "cell_type": "code",
   "execution_count": 224,
   "metadata": {},
   "outputs": [],
   "source": [
    "base_800 = df_creator(800).memory_usage(deep=True).sum()/1024**2"
   ]
  },
  {
   "cell_type": "code",
   "execution_count": 244,
   "metadata": {},
   "outputs": [
    {
     "name": "stdout",
     "output_type": "stream",
     "text": [
      "[2.9566802978515625, 5.8985748291015625, 8.840469360351562, 11.782363891601562]\n"
     ]
    }
   ],
   "source": [
    "mem_usage = [base_200,base_400,base_600,base_800]\n",
    "print(mem_usage)"
   ]
  },
  {
   "cell_type": "code",
   "execution_count": 252,
   "metadata": {},
   "outputs": [
    {
     "data": {
      "text/plain": [
       "Text(0.5,1,'Memory Usage vs Number of Bases')"
      ]
     },
     "execution_count": 252,
     "metadata": {},
     "output_type": "execute_result"
    },
    {
     "data": {
      "image/png": "[encoded data removed]",
      "text/plain": [
       "<Figure size 432x288 with 1 Axes>"
      ]
     },
     "metadata": {},
     "output_type": "display_data"
    }
   ],
   "source": [
    "x = [200,400,600,800]\n",
    "plt.bar(positions, height=mem_usage)\n",
    "plt.xticks(positions,[200,400,600,800])\n",
    "plt.xlabel(\"Number of Bases included\")\n",
    "plt.ylabel(\"Memory Usage in MB\")\n",
    "plt.title(\"Memory Usage vs Number of Bases\")"
   ]
  },
  {
   "cell_type": "code",
   "execution_count": null,
   "metadata": {},
   "outputs": [],
   "source": []
  }
 ],
 "metadata": {
  "kernelspec": {
   "display_name": "Python 3",
   "language": "python",
   "name": "python3"
  },
  "language_info": {
   "codemirror_mode": {
    "name": "ipython",
    "version": 3
   },
   "file_extension": ".py",
   "mimetype": "text/x-python",
   "name": "python",
   "nbconvert_exporter": "python",
   "pygments_lexer": "ipython3",
   "version": "3.6.5"
  }
 },
 "nbformat": 4,
 "nbformat_minor": 2
}
